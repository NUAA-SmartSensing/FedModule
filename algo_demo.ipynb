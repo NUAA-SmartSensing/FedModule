{
 "cells": [
  {
   "cell_type": "code",
   "execution_count": null,
   "metadata": {},
   "outputs": [],
   "source": [
    "import pandas as pd\n",
    "import ast"
   ]
  },
  {
   "cell_type": "code",
   "execution_count": null,
   "metadata": {},
   "outputs": [],
   "source": [
    "df_org = pd.read_csv('src/access/WalkerDelta/walker_delta_sats_H4_12_min_seq_31days.csv')\n",
    "df_org['sats'] = df_org['sats'].apply(lambda x: ast.literal_eval(x))\n",
    "df_org['real_idx'] = df_org['real_idx'].apply(lambda x: ast.literal_eval(x))\n",
    "df_org['train_time_indiv'] = df_org['train_time_indiv'].apply(lambda x: ast.literal_eval(x))"
   ]
  },
  {
   "cell_type": "code",
   "execution_count": null,
   "metadata": {},
   "outputs": [],
   "source": [
    "v = 300\n",
    "# y = 7 * 24 * 60 * 60 / 5  # 7 days\n",
    "df_org = df_org[df_org['train_time_indiv'].apply(lambda x: all(int(elem) >= v for elem in x) )].reset_index(drop=True)\n",
    "df_org"
   ]
  },
  {
   "cell_type": "code",
   "execution_count": null,
   "metadata": {},
   "outputs": [],
   "source": [
    "type(df_org['sats'].iloc[0])\n",
    "# df_org['start_idx'] = df_org['real_idx'].apply(lambda x: x[0])\n",
    "# df_org['end_idx'] = df_org['real_idx'].apply(lambda x: x[-1])\n",
    "# df_org = df_org[df_org['real_idx'].apply(lambda x: x[-1] <= 7 * 24 * 60 * 60 /5)]\n",
    "df = df_org.copy()\n",
    "# df = df[df['real_idx'].apply(lambda x: x[-1] <= 7 * 24 * 60 * 60 /5)]"
   ]
  },
  {
   "cell_type": "code",
   "execution_count": null,
   "metadata": {},
   "outputs": [],
   "source": [
    "df"
   ]
  },
  {
   "cell_type": "code",
   "execution_count": null,
   "metadata": {},
   "outputs": [],
   "source": [
    "dfM = df.copy()\n",
    "dfM.sort_values(by=['end_idx'],inplace=True)\n",
    "dfM.reset_index(drop=True,inplace=True)\n",
    "dfM"
   ]
  },
  {
   "cell_type": "code",
   "execution_count": null,
   "metadata": {},
   "outputs": [],
   "source": [
    "indexs = [0]\n",
    "end_time = dfM['end_idx'].iloc[0]\n",
    "# inde\n",
    "for index, row in dfM.iterrows():\n",
    "    if row['start_idx'] >= end_time:\n",
    "        indexs.append(index)\n",
    "        end_time = row['end_idx']\n",
    "\n",
    "dfM = dfM.loc[indexs].reset_index(drop=True)\n",
    "# Most Scheduled Sats\n",
    "dfM['sats'].explode().value_counts(),dfM['sats'].apply(len).value_counts(),dfM['sats'].apply(len).value_counts().sum()"
   ]
  },
  {
   "cell_type": "code",
   "execution_count": null,
   "metadata": {},
   "outputs": [],
   "source": [
    "dfM\n"
   ]
  },
  {
   "cell_type": "code",
   "execution_count": null,
   "metadata": {},
   "outputs": [],
   "source": [
    "# No schedule\n",
    "df\n",
    "indexs = [0]\n",
    "end_time = df_org['end_idx'].iloc[0]\n",
    "# inde\n",
    "for index, row in df_org.iterrows():\n",
    "    if row['start_idx'] >= end_time:\n",
    "        indexs.append(index)\n",
    "        end_time = row['end_idx']\n",
    "\n",
    "df_schedule = df_org.loc[indexs].reset_index(drop=True)\n",
    "df_schedule['sats'].explode().value_counts(), df_schedule['sats'].apply(len).value_counts(),df_schedule['sats'].apply(len).value_counts().sum()"
   ]
  },
  {
   "cell_type": "code",
   "execution_count": null,
   "metadata": {},
   "outputs": [],
   "source": [
    "df_schedule"
   ]
  },
  {
   "cell_type": "code",
   "execution_count": null,
   "metadata": {},
   "outputs": [],
   "source": [
    "period = 51840 / 3 / 24\n",
    "df_schedule3 = df_schedule[df_schedule['real_idx'].apply(lambda x: all(i < period for i in x)) ]\n",
    "df_schedule3"
   ]
  },
  {
   "cell_type": "code",
   "execution_count": null,
   "metadata": {},
   "outputs": [],
   "source": [
    "df_schedule3['sats'].explode().value_counts()"
   ]
  },
  {
   "cell_type": "code",
   "execution_count": null,
   "metadata": {},
   "outputs": [],
   "source": []
  }
 ],
 "metadata": {
  "kernelspec": {
   "display_name": "leofl",
   "language": "python",
   "name": "python3"
  },
  "language_info": {
   "codemirror_mode": {
    "name": "ipython",
    "version": 3
   },
   "file_extension": ".py",
   "mimetype": "text/x-python",
   "name": "python",
   "nbconvert_exporter": "python",
   "pygments_lexer": "ipython3",
   "version": "3.8.18"
  }
 },
 "nbformat": 4,
 "nbformat_minor": 2
}
